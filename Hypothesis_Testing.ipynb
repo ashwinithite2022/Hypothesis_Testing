{
 "cells": [
  {
   "cell_type": "code",
   "execution_count": 1,
   "metadata": {
    "ExecuteTime": {
     "end_time": "2023-01-07T13:47:36.694910Z",
     "start_time": "2023-01-07T13:47:35.273712Z"
    }
   },
   "outputs": [],
   "source": [
    "#import the libraries\n",
    "import pandas as pd\n",
    "import scipy \n",
    "import numpy as np\n",
    "from scipy import stats"
   ]
  },
  {
   "cell_type": "markdown",
   "metadata": {},
   "source": [
    "# Super Market example"
   ]
  },
  {
   "cell_type": "code",
   "execution_count": 2,
   "metadata": {
    "ExecuteTime": {
     "end_time": "2023-01-07T13:47:36.719137Z",
     "start_time": "2023-01-07T13:47:36.700762Z"
    }
   },
   "outputs": [],
   "source": [
    "#mean=120\n",
    "#S.D=40\n",
    "#n=180"
   ]
  },
  {
   "cell_type": "code",
   "execution_count": 3,
   "metadata": {
    "ExecuteTime": {
     "end_time": "2023-01-07T13:47:36.750575Z",
     "start_time": "2023-01-07T13:47:36.725342Z"
    }
   },
   "outputs": [
    {
     "data": {
      "text/plain": [
       "0.9857070911974259"
      ]
     },
     "execution_count": 3,
     "metadata": {},
     "output_type": "execute_result"
    }
   ],
   "source": [
    "stats.t.cdf(2.23,df=79)"
   ]
  },
  {
   "cell_type": "markdown",
   "metadata": {},
   "source": [
    "# Call Center example"
   ]
  },
  {
   "cell_type": "code",
   "execution_count": 4,
   "metadata": {
    "ExecuteTime": {
     "end_time": "2023-01-07T13:47:36.765845Z",
     "start_time": "2023-01-07T13:47:36.754737Z"
    }
   },
   "outputs": [],
   "source": [
    "#Performance of a call centre is monitored by the average call duration Data frame 18 months shows that on the days when the process runs normally mean is 4 and S.D is 3 canot monitor each and every call due to limited resources so randomly sample 50 calls per day"
   ]
  },
  {
   "cell_type": "code",
   "execution_count": 5,
   "metadata": {
    "ExecuteTime": {
     "end_time": "2023-01-07T13:47:36.793870Z",
     "start_time": "2023-01-07T13:47:36.769561Z"
    }
   },
   "outputs": [
    {
     "data": {
      "text/plain": [
       "-1.4142135623730943"
      ]
     },
     "execution_count": 5,
     "metadata": {},
     "output_type": "execute_result"
    }
   ],
   "source": [
    "(4-4.6)/(3/np.sqrt(50))"
   ]
  },
  {
   "cell_type": "code",
   "execution_count": 6,
   "metadata": {
    "ExecuteTime": {
     "end_time": "2023-01-07T13:47:36.818458Z",
     "start_time": "2023-01-07T13:47:36.797635Z"
    }
   },
   "outputs": [],
   "source": [
    "p=2*stats.t.cdf(-1.41,df=49)"
   ]
  },
  {
   "cell_type": "code",
   "execution_count": 7,
   "metadata": {
    "ExecuteTime": {
     "end_time": "2023-01-07T13:47:36.834277Z",
     "start_time": "2023-01-07T13:47:36.821308Z"
    }
   },
   "outputs": [
    {
     "data": {
      "text/plain": [
       "0.08242797259022736"
      ]
     },
     "execution_count": 7,
     "metadata": {},
     "output_type": "execute_result"
    }
   ],
   "source": [
    "p/2"
   ]
  },
  {
   "cell_type": "markdown",
   "metadata": {},
   "source": [
    "# One tail test"
   ]
  },
  {
   "cell_type": "code",
   "execution_count": 8,
   "metadata": {
    "ExecuteTime": {
     "end_time": "2023-01-07T13:47:36.850680Z",
     "start_time": "2023-01-07T13:47:36.839863Z"
    }
   },
   "outputs": [],
   "source": [
    "# An outbrak of Salmonelia-realted ilness was attributed to ice cream produced at a certain factory.Scientists measured the level of Salmonella in 9 randomly sampled batches of ice cream The level were\n",
    "#[0.593, 0.142, 0.329, 0.691, 0.231, 0.793, 0.519, 0.392, 0.418])"
   ]
  },
  {
   "cell_type": "code",
   "execution_count": 9,
   "metadata": {
    "ExecuteTime": {
     "end_time": "2023-01-07T13:47:36.877090Z",
     "start_time": "2023-01-07T13:47:36.854670Z"
    }
   },
   "outputs": [],
   "source": [
    "data=pd.Series([0.593, 0.142, 0.329, 0.691, 0.231, 0.793, 0.519, 0.392, 0.418])"
   ]
  },
  {
   "cell_type": "code",
   "execution_count": 10,
   "metadata": {
    "ExecuteTime": {
     "end_time": "2023-01-07T13:47:36.894596Z",
     "start_time": "2023-01-07T13:47:36.885236Z"
    }
   },
   "outputs": [],
   "source": [
    "#This gives two tail test p value so divide by 2 to get final p-value\n",
    "p=scipy.stats.ttest_1samp(data,0.3)[1]\n",
    "p_value= p/2"
   ]
  },
  {
   "cell_type": "markdown",
   "metadata": {},
   "source": [
    "# Two Tail test"
   ]
  },
  {
   "cell_type": "code",
   "execution_count": 11,
   "metadata": {
    "ExecuteTime": {
     "end_time": "2023-01-07T13:47:36.916886Z",
     "start_time": "2023-01-07T13:47:36.899065Z"
    }
   },
   "outputs": [],
   "source": [
    "Control=pd.Series([91, 87, 99, 77, 88, 91])\n",
    "Treat =pd.Series([101, 110, 103, 93, 99, 104])  \n"
   ]
  },
  {
   "cell_type": "code",
   "execution_count": 12,
   "metadata": {
    "ExecuteTime": {
     "end_time": "2023-01-07T13:47:36.948706Z",
     "start_time": "2023-01-07T13:47:36.922563Z"
    }
   },
   "outputs": [
    {
     "data": {
      "text/plain": [
       "Ttest_indResult(statistic=-3.4456126735364876, pvalue=0.006272124350809803)"
      ]
     },
     "execution_count": 12,
     "metadata": {},
     "output_type": "execute_result"
    }
   ],
   "source": [
    "stats.ttest_ind( Control,Treat)"
   ]
  },
  {
   "cell_type": "markdown",
   "metadata": {},
   "source": [
    "# 2 Proportion Test"
   ]
  },
  {
   "cell_type": "code",
   "execution_count": 13,
   "metadata": {
    "ExecuteTime": {
     "end_time": "2023-01-07T13:47:36.963845Z",
     "start_time": "2023-01-07T13:47:36.952954Z"
    }
   },
   "outputs": [],
   "source": [
    "import numpy as np"
   ]
  },
  {
   "cell_type": "code",
   "execution_count": 14,
   "metadata": {
    "ExecuteTime": {
     "end_time": "2023-01-07T13:47:36.979210Z",
     "start_time": "2023-01-07T13:47:36.968019Z"
    }
   },
   "outputs": [],
   "source": [
    "#Data:\n",
    "\n",
    "n1 = 247\n",
    "p1 = .37\n",
    "\n",
    "n2 = 308\n",
    "p2 = .39"
   ]
  },
  {
   "cell_type": "code",
   "execution_count": 15,
   "metadata": {
    "ExecuteTime": {
     "end_time": "2023-01-07T13:47:36.997414Z",
     "start_time": "2023-01-07T13:47:36.982385Z"
    }
   },
   "outputs": [],
   "source": [
    "population1 = np.random.binomial(1, p1, n1)\n",
    "population2 = np.random.binomial(1, p2, n2)"
   ]
  },
  {
   "cell_type": "code",
   "execution_count": 16,
   "metadata": {
    "ExecuteTime": {
     "end_time": "2023-01-07T13:47:37.015734Z",
     "start_time": "2023-01-07T13:47:37.000567Z"
    }
   },
   "outputs": [
    {
     "data": {
      "text/plain": [
       "0.340080971659919"
      ]
     },
     "execution_count": 16,
     "metadata": {},
     "output_type": "execute_result"
    }
   ],
   "source": [
    "population1.mean()"
   ]
  },
  {
   "cell_type": "code",
   "execution_count": 17,
   "metadata": {
    "ExecuteTime": {
     "end_time": "2023-01-07T13:47:37.030222Z",
     "start_time": "2023-01-07T13:47:37.018893Z"
    }
   },
   "outputs": [
    {
     "data": {
      "text/plain": [
       "array([0, 1, 1, 0, 1, 0, 0, 1, 0, 0, 0, 0, 0, 1, 0, 1, 0, 1, 1, 0, 0, 0,\n",
       "       1, 1, 1, 1, 1, 1, 0, 0, 0, 1, 1, 0, 0, 1, 0, 1, 1, 0, 1, 0, 0, 1,\n",
       "       0, 0, 1, 0, 0, 0, 0, 0, 0, 0, 0, 1, 1, 1, 0, 1, 0, 0, 1, 1, 1, 0,\n",
       "       1, 0, 0, 1, 1, 1, 1, 1, 0, 0, 0, 0, 1, 0, 1, 1, 0, 0, 0, 1, 0, 0,\n",
       "       1, 0, 0, 1, 0, 0, 0, 0, 1, 1, 0, 1, 0, 0, 0, 0, 0, 0, 1, 1, 0, 0,\n",
       "       1, 0, 1, 0, 1, 1, 0, 0, 1, 0, 1, 0, 0, 0, 0, 0, 0, 0, 0, 1, 0, 0,\n",
       "       0, 0, 0, 1, 1, 0, 1, 1, 1, 1, 0, 1, 1, 0, 1, 1, 0, 1, 0, 0, 1, 1,\n",
       "       1, 1, 0, 0, 0, 0, 1, 0, 0, 0, 0, 0, 0, 0, 1, 0, 1, 1, 1, 0, 0, 1,\n",
       "       0, 0, 1, 0, 0, 0, 0, 1, 0, 1, 0, 0, 1, 0, 1, 1, 0, 0, 0, 1, 0, 0,\n",
       "       0, 1, 1, 0, 0, 1, 0, 1, 0, 1, 0, 0, 1, 1, 0, 1, 0, 0, 0, 0, 0, 0,\n",
       "       1, 1, 0, 1, 0, 0, 1, 0, 0, 0, 1, 0, 0, 0, 0, 0, 0, 0, 1, 0, 1, 0,\n",
       "       0, 0, 0, 0, 1, 1, 1, 1, 0, 1, 0, 0, 0, 1, 0, 1, 0, 0, 0, 1, 1, 0,\n",
       "       1, 0, 0, 1, 1, 1, 0, 1, 0, 0, 0, 1, 0, 0, 1, 0, 0, 0, 0, 0, 1, 1,\n",
       "       1, 0, 1, 1, 1, 0, 1, 0, 0, 0, 1, 1, 0, 1, 1, 1, 0, 0, 1, 1, 1, 0])"
      ]
     },
     "execution_count": 17,
     "metadata": {},
     "output_type": "execute_result"
    }
   ],
   "source": [
    "population2"
   ]
  },
  {
   "cell_type": "code",
   "execution_count": 18,
   "metadata": {
    "ExecuteTime": {
     "end_time": "2023-01-07T13:47:37.776113Z",
     "start_time": "2023-01-07T13:47:37.032218Z"
    }
   },
   "outputs": [
    {
     "data": {
      "text/plain": [
       "(-1.74435774427073, 0.0816523127819337, 553.0)"
      ]
     },
     "execution_count": 18,
     "metadata": {},
     "output_type": "execute_result"
    }
   ],
   "source": [
    "import statsmodels.api as sm\n",
    "sm.stats.ttest_ind(population1, population2)"
   ]
  }
 ],
 "metadata": {
  "kernelspec": {
   "display_name": "Python 3 (ipykernel)",
   "language": "python",
   "name": "python3"
  },
  "language_info": {
   "codemirror_mode": {
    "name": "ipython",
    "version": 3
   },
   "file_extension": ".py",
   "mimetype": "text/x-python",
   "name": "python",
   "nbconvert_exporter": "python",
   "pygments_lexer": "ipython3",
   "version": "3.9.13"
  }
 },
 "nbformat": 4,
 "nbformat_minor": 2
}
